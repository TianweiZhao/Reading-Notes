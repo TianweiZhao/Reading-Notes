{
 "cells": [
  {
   "cell_type": "markdown",
   "id": "3786279b",
   "metadata": {},
   "source": [
    "# Notes"
   ]
  },
  {
   "cell_type": "markdown",
   "id": "34e10aca",
   "metadata": {},
   "source": [
    "* Diffusion-QL: boosts the performance of offline RL by representing a policy with a diffusion model, whose success relies on a parameterized Markov Chain with hundreds of steps for sampling.\n",
    "    - Challenges\n",
    "    - 1. It is computationally inefficient to forward and backward through the whole Markov chain during training. \n",
    "    - 2. It is incompatible with maximum likelihood based RL algorithms (policy gradient methods) as the likelihood of diffusion models is intratable. \n",
    "\n",
    "* Offline RL is much desired in real-world applications as it can extract knowledge from previous experiences, thus avoiding costly or risky online interactions. \n",
    "* Existing methods mainly focus on addressing this issue by constraining a policy to stay close to the data-collecting policy, making conservative updates for Q-networks, or combining these two strategies. \n",
    "* Offline RL can also be viewed as a state-conditional generative modeling problem of actions, where the parameterization of the policy network is iportatnt but largely overlooked. \n",
    "* Most offline RL works follow the convention of parameterizing the policy as a diagonal Guassian distribution with the learned mean and variance. This scheme become inferior when the data distribution is complex, especially when offline data are collected from various sources and present strong multi-modalities. \n",
    "\n",
    "* Diffusion-QL: replace the diagonal Guassian policy with a diffusion model, significantly boosting the performance of the TD3+BC algorithm. Diffusion models have achieved the new state-of-the-art (SOTA) in image generation tasks, demonstrating a superior ability to capture complex data distributions. \n",
    "\n",
    "* Diffusion policy is incompatible with a large family of policy gradient algorithms, which require a tractable and differentiable log-likelihood for policy improvement. \n",
    "\n",
    "* Efficient diffusion policy (EDP). \n",
    "    - base EDP on the denoising diffusion probabilistic model (DDPM), which learns a noise-prediction network to predict the noise used to corrupt an example. In the forward diffusion process, a corrupted sample follows a predefined Gaussian distribution when the clean example and timestep are given. In turn, given a corrupted sample and predicted noise, we can approximate its clean version by leveraging the reparameterization trick. \n",
    "    - we propose action approximation to build an action from a corrupted one, which can be easily constructed from the dataset. In this way, each training step only needs to pass through the noise-prediction network once, thus substantially reducing the training time. \n",
    "    - Finally, to support likelihood-based RL algorithms, we leverage the evidence lower bound for the likelihood developed in DDPM and approixmate the policy likelihood from a constructed Gaussian distribution with variance fixed and mean obtained from action approximation. \n",
    "\n",
    "* Offline RL:\n",
    "\n",
    "    - Distributional shift between the learned and behavior policies is offline RL's biggest challenge. \n",
    "    - Distributional shift refers to the difference between the data used to train a model (learned policy) and the data encountered when the model is deployed (behavior policy). \n",
    "    \n",
    "* Policy Parameterization:\n",
    "    - two categories of requirements: 1. The sampling process is differentiable, such as the deterministic policy in DDPG and TD3; 2. The log-likelihood of samples is tractable. \n",
    "    \n",
    "\n",
    "* Contribution\n",
    "    - first propose a more efficient way to train diffusion policies, which reduces training time to the level of a Guassian policy. \n",
    "    - Then, generalize the diffusion policy to be compatible with MLE-based RL methods"
   ]
  },
  {
   "attachments": {
    "image-2.png": {
     "image/png": "[encoded data removed]"
    },
    "image.png": {
     "image/png": "[encoded data removed]"
    }
   },
   "cell_type": "markdown",
   "id": "24f5c3ff",
   "metadata": {},
   "source": [
    "## Diffusion models\n",
    "\n",
    "![image.png](attachment:image.png)\n",
    "* The equation describes a forward diffusion process applied to a sample x0 drawn from a real data distribution q(x)\n",
    "* q(x^{1:K|x^0}): this represents the probability distribution of the sequence of noisy samples given the initial sample x0\n",
    "\n",
    "* second part: this is the product of ocnditional probabilities of each noisy sample x^k given the previous sample x^(k-1). it indicates that the noisy samples are generated step-by-step in a Markov chain, where each step depends only on the previous step. \n",
    "\n",
    "![image-2.png](attachment:image-2.png)\n",
    "* the foward diffusion process gradually adds gaussian noise to the sample in  steps. the noise added at each step is controlled by a variance schedule\n",
    "\n",
    "* The noisy sample x^k is drawn from a normal distribution centered around $\\sqrt{1-\\beta_k}x^{k-1}$ with variance $\\beta_k$\n",
    "\n",
    "\n",
    "### Diffusion Process and Sample Generation\n",
    "\n",
    "When $K \\to \\infty$, the noisy sample $x^K$ approaches an isotropic Gaussian distribution. This means that as the number of steps $K$ increases, the final noisy sample $ x^K $ becomes a sample from a standard normal distribution.\n",
    "\n",
    "### Learning and Reversing the Diffusion Process\n",
    "\n",
    "Diffusion models learn a conditional distribution $p_\\theta(x^{k-1}|x^k) $ to generate new samples by reversing the diffusion process. The reverse process is described by:\n",
    "\n",
    "$$ p_\\theta(x^{0:K}) = p(x^K) \\prod_{k=1}^K p_\\theta(x^{k-1}|x^k) $$\n",
    "\n",
    "This equation represents the probability distribution of the sequence of samples $ x^{0:K} $ generated by the reverse process. Here:\n",
    "\n",
    "- **$ p(x^K) $**: This is the initial distribution of the final noisy sample $ x^K $, which is a standard normal distribution $ \\mathcal{N}(0, I) $.\n",
    "\n",
    "- **$ \\prod_{k=1}^K p_\\theta(x^{k-1}|x^k) $**: This is the product of the learned conditional probabilities for each step in the reverse process.\n",
    "\n",
    "### Conditional Distribution in the Reverse Process\n",
    "\n",
    "The conditional distribution $ p_\\theta(x^{k-1}|x^k) $ is modeled as a normal distribution:\n",
    "\n",
    "$$ p_\\theta(x^{k-1}|x^k) = \\mathcal{N}(x^{k-1}; \\mu_\\theta(x^k, k), \\Sigma_\\theta(x^k, k)) $$\n",
    "\n",
    "Here:\n",
    "\n",
    "- **$ \\mu_\\theta(x^k, k) $**: This is the mean of the normal distribution, which is a function of the noisy sample $ x^k $ and the timestep $ k $.\n",
    "\n",
    "- **$ \\Sigma_\\theta(x^k, k) $**: This is the covariance matrix of the normal distribution, also a function of $( x^k )$ and $( k )$.\n",
    "\n",
    "### Training Objective\n",
    "\n",
    "The training of the diffusion model is performed by maximizing the evidence lower bound (ELBO):\n",
    "\n",
    "$$ \\mathbb{E}_{q_0}[ \\log p_{\\theta}(x^{0:K}) ] = \\mathbb{E}_{q} \\left[ \\log \\frac{p_{\\theta}(x^{0:K})}{q(x^{1:K}|x_0)} \\right] $$\n",
    "\n",
    "This objective aims to maximize the likelihood of the generated samples $x^{0:K}$ under the learned model $ p_\\theta$, compared to the true distribution $ q $.\n",
    "\n",
    "In summary, this part explains how diffusion models generate new samples by reversing the diffusion process and how they are trained to maximize the likelihood of the generated samples.\n"
   ]
  },
  {
   "cell_type": "markdown",
   "id": "1e8ab81f",
   "metadata": {
    "vscode": {
     "languageId": "html"
    }
   },
   "source": []
  },
  {
   "cell_type": "code",
   "execution_count": null,
   "id": "75b5347f",
   "metadata": {
    "vscode": {
     "languageId": "latex"
    }
   },
   "outputs": [],
   "source": []
  }
 ],
 "metadata": {
  "language_info": {
   "name": "python"
  }
 },
 "nbformat": 4,
 "nbformat_minor": 5
}
