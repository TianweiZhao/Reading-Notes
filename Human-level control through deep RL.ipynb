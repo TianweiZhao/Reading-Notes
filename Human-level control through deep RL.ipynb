{
 "cells": [
  {
   "cell_type": "markdown",
   "id": "6c6abe19",
   "metadata": {},
   "source": [
    "# notes\n",
    "\n",
    "* To use RL successfully in situations approaching real-world complexity, however, agents are confronted with a difficult task: they must derive efficient representations of the environment from high-dimensional sensory inputs, and use these to generalize past experience to new situations. \n",
    "\n",
    "* "
   ]
  }
 ],
 "metadata": {
  "language_info": {
   "name": "python"
  }
 },
 "nbformat": 4,
 "nbformat_minor": 5
}
