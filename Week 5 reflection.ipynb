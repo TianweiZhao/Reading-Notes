{
 "cells": [
  {
   "cell_type": "markdown",
   "id": "cbed67b3-5adc-412c-8a42-ca9892ed291e",
   "metadata": {},
   "source": [
    "# A conceptual framework combining the following:\n",
    "\n",
    "## Components:\n",
    "\n",
    "1. Data-Driven Robust Optimizations: (https://www.mit.edu/~dbertsim/papers/Robust%20Optimization/Data-driven%20robust%20optimization.pdf)\n",
    "   * Construct probabilistic guaranteed uncertainty sets from both historical and real time data.\n",
    "   * These sets adapt over time based on hypothesis testing or Bayesian updates, ensuring they remain as tight as possible while maintaining the necessary confidence interval.\n",
    "   * Quote from the paper: \"We propose a novel schema for designing uncertainty sets for robust optimization from data using hypothesis tests. Sets designed using our schema imply a probabilistic guarantee and are typically much smaller than corresponding data poor variants. Models built from these sets are thus less conservative than conventional robust approaches, yet retain the same robustness guarantees.\"\n",
    "\n",
    "2. Learning-Based Predictive Models (LBPM):\n",
    "   * Use function approximators (e.g., neural networks, Gaussian Processes, or hybrid physics-plus-ML models) to capture system dynamics.\n",
    "   * Continuously refine model parameters with new data, ensuring the predictive model remains accurate in a changing environment.\n",
    "\n",
    "3. Distributed Model Predictive Control (DMPC):\n",
    "   * Each agent solves a local MPC problem with robust constraints derived from the data-driven uncertainty sets.\n",
    "   * Agents coordinate via decentralized mechanisms (e.g., ADMM, consensus) to ensure global objectives (e.g., overall cost minimization) and feasibility constraints are met.\n",
    "\n",
    "4. Multi-Agent Reinforcement Learning (MARL):\n",
    "   * A global or partially-shared value function (or policy network) is updated based on agents' local experiences\n",
    "   * The robust DMPC layer \"encodes\" near-term decision-making and safety-constraints, while the MARL algorithm focuses on higher-level or long-term objectives.\n",
    "\n",
    "\n",
    "## Key Interactions\n",
    "\n",
    "1. LBPM $\\leftrightarrow$ Data-Driven Uncertainty Sets:\n",
    "   * As more data arrives, the learning-based model and the uncertainty sets are jointly updated.\n",
    "   * The tighter the uncertainty sets become, the less conservative the MPC solutions -- and consequently, the better the MARL agent's reward signals.\n",
    "\n",
    "2. DMPC $\\leftrightarrow$ MARL:\n",
    "   * DMPC ensures short-horizon stability and constraint satisfaction.\n",
    "   * MARL learns from the improved system trajectories (less conservative, yet robust to real uncertainties) to optimize long-horizon performance.\n",
    "\n",
    "3. Decentralized Coordination (ADMM, Consensu):\n",
    "   * Each agent's local MPC solution must be consistent with neighbor's decisions (e.g., shared states or constraints)\n",
    "   * MARL uses partial or full coordination signals for collective policy updates, avoiding the need for a single centralized controller. "
   ]
  },
  {
   "cell_type": "markdown",
   "id": "ccccdf1c-8cfa-47fd-a800-3eb1914e0821",
   "metadata": {},
   "source": [
    "## Example Scenario: Multi-Stage Chemical Process"
   ]
  },
  {
   "cell_type": "markdown",
   "id": "0516a7b0-1edb-4a2b-82ff-be49667607bd",
   "metadata": {},
   "source": [
    "### Overview: \n",
    "1. Process Layout:\n",
    "   * multiple reactions in series or parallel, each with local temperature, pressure, and concentration controls.\n",
    "   * Shared resources like raw materials, energy (steam, cooling water), or intermediate storage tanks.\n",
    "2. Control Objectives:\n",
    "   * Maximize throughout or yield of a target chemical product\n",
    "   * Maintain product quality (e.g., purity, consistent composition)\n",
    "   * Minimize energy consumption, emissions, or operating costs\n",
    "3. RL can be a good fit because:\n",
    "   * Partial physical models: Engineers often have approximate kinetic equations and mass/energy balance equations, but real-world complexities remain uncertain.\n",
    "   * Modern plants generate massive logs allowing for adaptive data-driven modelling.\n",
    "   * Decentralized Contorl: Each reactor or unit needs its own local controller, but they must coordinate to maintain overall throughput and quality.\n",
    "\n",
    "\n",
    "### Applying Framework to Multi-Stage Chemical Processes\n",
    "1. Data-Driven Uncertainty Sets\n",
    "   * Data Souces:\n",
    "     - Historical Logs\n",
    "     - Online Sensor Streams\n",
    "   * Building Uncertainty sets:\n",
    "     - Construct hypothesis-test-based bounds on parameters, which subject to variation like reaction rates, heat transfer coefficients, capturing data-driven \"most-likely\" fluctuations.\n",
    "     - Update uncertainty sets periodically as new data arrives -- keep it up-to-date\n",
    "   * Reduced Convervatism with Robust Guarantees:\n",
    "     - Traditional robust approaches might assume \"worst-case\" reaction rates for all conditions;\n",
    "     - data-driven sets allow the system to relax constraints when evidence shows smaller deviations while still maintaining high-probability guarantee of safety and feasibility.\n",
    "2. Learning-Based Predictive Models\n",
    "   * Hybrid Physical + Data-Driven Model:\n",
    "     - Physical Model Component: approximates mass & energy balances; std kinetics (Arrhenius) for reactions\n",
    "     - Residual / Error-term Model: A NN that captures unmodeled interactions (side reactions, catalyst deactivation, etc.)\n",
    "   * Online Model Refinement\n",
    "     - Update the residual function with real-time data, capturing time-varying factors (such as catalyst poisoning, varying feed composition)\n",
    "     - Keep track of predicitive uncertainty (Bayesian) => feed uncertainty into robust optimization process.\n",
    "3. Distributed Model Predictive Control (DMPC)\n",
    "   * This part requires a gradual transition that retains PID's simplicity while leveraging MPC's predictive capabilities.\n",
    "     - implement PID-MPC hybrid control (define MPC cost function as PID gain) => allows MPC to act as a PID-like function approximator while keeping its predictive and constraint-handling advantage\n",
    "     - Use MPC to Auto-Tune PID Parameters\n",
    "     - "
   ]
  },
  {
   "cell_type": "code",
   "execution_count": null,
   "id": "1aa6664e-cd34-4d6e-9399-a90d530dc3ad",
   "metadata": {},
   "outputs": [],
   "source": []
  }
 ],
 "metadata": {
  "kernelspec": {
   "display_name": "Python 3 (ipykernel)",
   "language": "python",
   "name": "python3"
  },
  "language_info": {
   "codemirror_mode": {
    "name": "ipython",
    "version": 3
   },
   "file_extension": ".py",
   "mimetype": "text/x-python",
   "name": "python",
   "nbconvert_exporter": "python",
   "pygments_lexer": "ipython3",
   "version": "3.12.9"
  }
 },
 "nbformat": 4,
 "nbformat_minor": 5
}
